{
 "metadata": {
  "language_info": {
   "codemirror_mode": {
    "name": "ipython",
    "version": 3
   },
   "file_extension": ".py",
   "mimetype": "text/x-python",
   "name": "python",
   "nbconvert_exporter": "python",
   "pygments_lexer": "ipython3",
   "version": "3.8.5"
  },
  "orig_nbformat": 4,
  "kernelspec": {
   "name": "python3",
   "display_name": "Python 3.8.5 64-bit ('base': conda)"
  },
  "interpreter": {
   "hash": "2d42012c424bb3622bf0a3efe7396fdecdff5130257421e22efe76adf9925da5"
  }
 },
 "nbformat": 4,
 "nbformat_minor": 2,
 "cells": [
  {
   "cell_type": "code",
   "execution_count": 1,
   "metadata": {},
   "outputs": [],
   "source": [
    "import pandas as pd\n",
    "import numpy as np\n",
    "import re\n",
    "import string\n",
    "import joblib\n",
    "import datetime as dt\n",
    "import html\n",
    "from datetime import datetime\n",
    "from sklearn.metrics import classification_report, confusion_matrix, accuracy_score\n",
    "from nltk.corpus import stopwords\n",
    "from nltk.tokenize import word_tokenize\n",
    "from nltk.stem import PorterStemmer\n",
    "stemmer = PorterStemmer()"
   ]
  },
  {
   "cell_type": "code",
   "execution_count": 2,
   "metadata": {},
   "outputs": [
    {
     "output_type": "stream",
     "name": "stdout",
     "text": [
      "       Unnamed: 0    User_id  \\\n0               0  351225728   \n1               1  351224292   \n2               2  351217203   \n3               3  351168082   \n4               4  351101967   \n...           ...        ...   \n58867       58867    6679527   \n58868       58868    6678652   \n58869       58869    6675507   \n58870       58870    6667334   \n58871       58871    6667230   \n\n                                                 Message       Date  \\\n0      $IDEX  the groups all showing up as long as th...   1/7/2021   \n1      $SPY $DIA $QQQ $DJIA $NASDAQ  not only Bofa an...   1/7/2021   \n2      $EURUSD the major key avent is -Fed to announc...   1/7/2021   \n3      $CCL $RCL $SPY $QQQ $NASDAQ Im moving to the b...   1/7/2021   \n4      It’s strange.. once you get used to making 1k ...  30/6/2021   \n...                                                  ...        ...   \n58867  RT @vcutrader The Nasdaq is up 11.4% in 34 day...   3/2/2012   \n58868  Short $DJIA 12.850 $NDX 2,527 $RUT 829 $SPX 1....   3/2/2012   \n58869  $IJR  $COMPQ  Both indexes have confirmed the ...   3/2/2012   \n58870                                           YEA $NDX   3/2/2012   \n58871  We&#39;ve Added The NASDAQ 100 Index Stream (T...   3/2/2012   \n\n            Time Sentiment  \n0      08:50:49Z   Bullish  \n1      08:37:15Z   Bearish  \n2      07:15:50Z   Bearish  \n3      01:56:23Z       NaN  \n4      22:11:09Z       NaN  \n...          ...       ...  \n58867  17:01:55Z       NaN  \n58868  16:39:31Z       NaN  \n58869  15:22:16Z       NaN  \n58870  04:50:35Z       NaN  \n58871  04:07:13Z       NaN  \n\n[58872 rows x 6 columns]\n"
     ]
    }
   ],
   "source": [
    "# Load data\n",
    "dfRaw=pd.read_csv('sampleFinal.csv')\n",
    "print(dfRaw)"
   ]
  },
  {
   "cell_type": "code",
   "execution_count": 3,
   "metadata": {},
   "outputs": [
    {
     "output_type": "execute_result",
     "data": {
      "text/plain": [
       "(58872, 6)"
      ]
     },
     "metadata": {},
     "execution_count": 3
    }
   ],
   "source": [
    "# Inspect the number of observations\n",
    "dfRaw.shape"
   ]
  },
  {
   "cell_type": "code",
   "execution_count": 4,
   "metadata": {},
   "outputs": [
    {
     "output_type": "execute_result",
     "data": {
      "text/plain": [
       "<bound method NDFrame.head of        Unnamed: 0    User_id  \\\n",
       "0               0  351225728   \n",
       "1               1  351224292   \n",
       "2               2  351217203   \n",
       "3               3  351168082   \n",
       "4               4  351101967   \n",
       "...           ...        ...   \n",
       "58867       58867    6679527   \n",
       "58868       58868    6678652   \n",
       "58869       58869    6675507   \n",
       "58870       58870    6667334   \n",
       "58871       58871    6667230   \n",
       "\n",
       "                                                 Message       Date  \\\n",
       "0      $IDEX  the groups all showing up as long as th...   1/7/2021   \n",
       "1      $SPY $DIA $QQQ $DJIA $NASDAQ  not only Bofa an...   1/7/2021   \n",
       "2      $EURUSD the major key avent is -Fed to announc...   1/7/2021   \n",
       "3      $CCL $RCL $SPY $QQQ $NASDAQ Im moving to the b...   1/7/2021   \n",
       "4      It’s strange.. once you get used to making 1k ...  30/6/2021   \n",
       "...                                                  ...        ...   \n",
       "58867  RT @vcutrader The Nasdaq is up 11.4% in 34 day...   3/2/2012   \n",
       "58868  Short $DJIA 12.850 $NDX 2,527 $RUT 829 $SPX 1....   3/2/2012   \n",
       "58869  $IJR  $COMPQ  Both indexes have confirmed the ...   3/2/2012   \n",
       "58870                                           YEA $NDX   3/2/2012   \n",
       "58871  We&#39;ve Added The NASDAQ 100 Index Stream (T...   3/2/2012   \n",
       "\n",
       "            Time Sentiment  \n",
       "0      08:50:49Z   Bullish  \n",
       "1      08:37:15Z   Bearish  \n",
       "2      07:15:50Z   Bearish  \n",
       "3      01:56:23Z       NaN  \n",
       "4      22:11:09Z       NaN  \n",
       "...          ...       ...  \n",
       "58867  17:01:55Z       NaN  \n",
       "58868  16:39:31Z       NaN  \n",
       "58869  15:22:16Z       NaN  \n",
       "58870  04:50:35Z       NaN  \n",
       "58871  04:07:13Z       NaN  \n",
       "\n",
       "[58872 rows x 6 columns]>"
      ]
     },
     "metadata": {},
     "execution_count": 4
    }
   ],
   "source": [
    "dfRaw.head"
   ]
  },
  {
   "cell_type": "code",
   "execution_count": 5,
   "metadata": {},
   "outputs": [
    {
     "output_type": "execute_result",
     "data": {
      "text/plain": [
       "['Unnamed: 0', 'User_id', 'Message', 'Date', 'Time', 'Sentiment']"
      ]
     },
     "metadata": {},
     "execution_count": 5
    }
   ],
   "source": [
    "list(dfRaw.columns)"
   ]
  },
  {
   "cell_type": "code",
   "execution_count": 6,
   "metadata": {},
   "outputs": [
    {
     "output_type": "stream",
     "name": "stdout",
     "text": [
      "                                                 Message Sentiment\n0      $IDEX  the groups all showing up as long as th...   Bullish\n1      $SPY $DIA $QQQ $DJIA $NASDAQ  not only Bofa an...   Bearish\n2      $EURUSD the major key avent is -Fed to announc...   Bearish\n3      $CCL $RCL $SPY $QQQ $NASDAQ Im moving to the b...       NaN\n4      It’s strange.. once you get used to making 1k ...       NaN\n...                                                  ...       ...\n58867  RT @vcutrader The Nasdaq is up 11.4% in 34 day...       NaN\n58868  Short $DJIA 12.850 $NDX 2,527 $RUT 829 $SPX 1....       NaN\n58869  $IJR  $COMPQ  Both indexes have confirmed the ...       NaN\n58870                                           YEA $NDX       NaN\n58871  We&#39;ve Added The NASDAQ 100 Index Stream (T...       NaN\n\n[58872 rows x 2 columns]\n"
     ]
    }
   ],
   "source": [
    "# Keep the required columns for processing\n",
    "dfRawDrop=dfRaw[['Message','Sentiment']]\n",
    "print(dfRawDrop)"
   ]
  },
  {
   "cell_type": "code",
   "execution_count": 7,
   "metadata": {},
   "outputs": [
    {
     "output_type": "execute_result",
     "data": {
      "text/plain": [
       "Sentiment\n",
       "Bearish    6763\n",
       "Bullish    9708\n",
       "dtype: int64"
      ]
     },
     "metadata": {},
     "execution_count": 7
    }
   ],
   "source": [
    "# Check any imbalance in dataset\n",
    "\n",
    "dfRawDrop.groupby('Sentiment').size()"
   ]
  },
  {
   "cell_type": "code",
   "execution_count": 22,
   "metadata": {},
   "outputs": [
    {
     "output_type": "stream",
     "name": "stdout",
     "text": [
      "                                                 Message Sentiment\n0      $IDEX  the groups all showing up as long as th...   Bullish\n1      $SPY $DIA $QQQ $DJIA $NASDAQ  not only Bofa an...   Bearish\n2      $EURUSD the major key avent is -Fed to announc...   Bearish\n6      July has been a kind month for the NASDAQ in t...   Bullish\n7      $SPY $DIA $QQQ $RUT china based companies gett...   Bullish\n...                                                  ...       ...\n58731                           $NDX http://stks.co/2iHC   Bearish\n58783                   $NDX http://stks.co/2Ypo -Weekly   Bullish\n58810                   $NDX http://stks.co/2TWl -Weekly   Bullish\n58859  $NDX http://stks.co/2Jh3 Nasdaq-100 Bullish Pe...   Bullish\n58866            $NDX http://stks.co/2FXs -Weekly-Strong   Bullish\n\n[16471 rows x 2 columns]\n"
     ]
    }
   ],
   "source": [
    "# Drop unlabelled rows\n",
    "\n",
    "dfRawDropNA=dfRawDrop.dropna()\n",
    "print(dfRawDropNA)"
   ]
  },
  {
   "cell_type": "code",
   "execution_count": 23,
   "metadata": {},
   "outputs": [
    {
     "output_type": "stream",
     "name": "stderr",
     "text": [
      "<ipython-input-23-660219ac20b5>:3: SettingWithCopyWarning: \n",
      "A value is trying to be set on a copy of a slice from a DataFrame.\n",
      "Try using .loc[row_indexer,col_indexer] = value instead\n",
      "\n",
      "See the caveats in the documentation: https://pandas.pydata.org/pandas-docs/stable/user_guide/indexing.html#returning-a-view-versus-a-copy\n",
      "  dfRawDropNA['MessageCleaned'] = dfRawDropNA['Message'].str.lower()\n",
      "                                                 Message Sentiment  \\\n",
      "0      $IDEX  the groups all showing up as long as th...   Bullish   \n",
      "1      $SPY $DIA $QQQ $DJIA $NASDAQ  not only Bofa an...   Bearish   \n",
      "2      $EURUSD the major key avent is -Fed to announc...   Bearish   \n",
      "6      July has been a kind month for the NASDAQ in t...   Bullish   \n",
      "7      $SPY $DIA $QQQ $RUT china based companies gett...   Bullish   \n",
      "...                                                  ...       ...   \n",
      "58731                           $NDX http://stks.co/2iHC   Bearish   \n",
      "58783                   $NDX http://stks.co/2Ypo -Weekly   Bullish   \n",
      "58810                   $NDX http://stks.co/2TWl -Weekly   Bullish   \n",
      "58859  $NDX http://stks.co/2Jh3 Nasdaq-100 Bullish Pe...   Bullish   \n",
      "58866            $NDX http://stks.co/2FXs -Weekly-Strong   Bullish   \n",
      "\n",
      "                                          MessageCleaned  \n",
      "0      idex  the groups all showing up as long as the...  \n",
      "1      spy dia qqq djia nasdaq  not only bofa and wel...  \n",
      "2      eurusd the major key avent is fed to announce ...  \n",
      "6      july has been a kind month for the nasdaq in t...  \n",
      "7      spy dia qqq rut china based companies getting ...  \n",
      "...                                                  ...  \n",
      "58731                                               ndx   \n",
      "58783                                        ndx  weekly  \n",
      "58810                                        ndx  weekly  \n",
      "58859  ndx  nasdaq100 bullish percent index ended tod...  \n",
      "58866                                  ndx  weeklystrong  \n",
      "\n",
      "[16471 rows x 3 columns]\n",
      "<ipython-input-23-660219ac20b5>:5: SettingWithCopyWarning: \n",
      "A value is trying to be set on a copy of a slice from a DataFrame.\n",
      "Try using .loc[row_indexer,col_indexer] = value instead\n",
      "\n",
      "See the caveats in the documentation: https://pandas.pydata.org/pandas-docs/stable/user_guide/indexing.html#returning-a-view-versus-a-copy\n",
      "  dfRawDropNA['MessageCleaned'] = dfRawDropNA['MessageCleaned'].apply(lambda elem: re.sub(r\"(@[A-Za-z0-9]+)|([^0-9A-Za-z \\t])|(\\w+:\\/\\/\\S+)|^rt|http.+?\", \"\", elem))\n"
     ]
    }
   ],
   "source": [
    "# Clean data (lower case, remove special characters and numbers, weblinks)\n",
    "\n",
    "dfRawDropNA['MessageCleaned'] = dfRawDropNA['Message'].str.lower()\n",
    "dfRawDropNA['MessageCleaned'] = dfRawDropNA['MessageCleaned'].apply(lambda elem: re.sub(r\"(@[A-Za-z0-9]+)|([^0-9A-Za-z \\t])|(\\w+:\\/\\/\\S+)|^rt|http.+?\", \"\", elem))\n",
    "print(dfRawDropNA)"
   ]
  },
  {
   "cell_type": "code",
   "execution_count": 24,
   "metadata": {},
   "outputs": [],
   "source": [
    "dfRawDropNA.to_csv('sampleFinalCleaned.csv')"
   ]
  },
  {
   "cell_type": "code",
   "execution_count": 25,
   "metadata": {},
   "outputs": [
    {
     "output_type": "stream",
     "name": "stderr",
     "text": [
      "[nltk_data] Downloading package stopwords to\n",
      "[nltk_data]     C:\\Users\\BSIB\\AppData\\Roaming\\nltk_data...\n",
      "[nltk_data]   Package stopwords is already up-to-date!\n",
      "<ipython-input-25-62adf75aa5e5>:5: SettingWithCopyWarning: \n",
      "A value is trying to be set on a copy of a slice from a DataFrame.\n",
      "Try using .loc[row_indexer,col_indexer] = value instead\n",
      "\n",
      "See the caveats in the documentation: https://pandas.pydata.org/pandas-docs/stable/user_guide/indexing.html#returning-a-view-versus-a-copy\n",
      "  dfRawDropNA['MessageCleaned'] = dfRawDropNA['MessageCleaned'].apply(lambda x: ' '.join([word for word in x.split() if word not in (stop)]))\n"
     ]
    },
    {
     "output_type": "execute_result",
     "data": {
      "text/plain": [
       "                                             Message Sentiment  \\\n",
       "0  $IDEX  the groups all showing up as long as th...   Bullish   \n",
       "1  $SPY $DIA $QQQ $DJIA $NASDAQ  not only Bofa an...   Bearish   \n",
       "2  $EURUSD the major key avent is -Fed to announc...   Bearish   \n",
       "6  July has been a kind month for the NASDAQ in t...   Bullish   \n",
       "7  $SPY $DIA $QQQ $RUT china based companies gett...   Bullish   \n",
       "\n",
       "                                      MessageCleaned  \n",
       "0  idex groups showing long djia nasdaq spy qqq l...  \n",
       "1  spy dia qqq djia nasdaq bofa wells fargo predi...  \n",
       "2  eurusd major key avent fed announce qe taper a...  \n",
       "6  july kind month nasdaq past 5 years compq nasd...  \n",
       "7  spy dia qqq rut china based companies getting ...  "
      ],
      "text/html": "<div>\n<style scoped>\n    .dataframe tbody tr th:only-of-type {\n        vertical-align: middle;\n    }\n\n    .dataframe tbody tr th {\n        vertical-align: top;\n    }\n\n    .dataframe thead th {\n        text-align: right;\n    }\n</style>\n<table border=\"1\" class=\"dataframe\">\n  <thead>\n    <tr style=\"text-align: right;\">\n      <th></th>\n      <th>Message</th>\n      <th>Sentiment</th>\n      <th>MessageCleaned</th>\n    </tr>\n  </thead>\n  <tbody>\n    <tr>\n      <th>0</th>\n      <td>$IDEX  the groups all showing up as long as th...</td>\n      <td>Bullish</td>\n      <td>idex groups showing long djia nasdaq spy qqq l...</td>\n    </tr>\n    <tr>\n      <th>1</th>\n      <td>$SPY $DIA $QQQ $DJIA $NASDAQ  not only Bofa an...</td>\n      <td>Bearish</td>\n      <td>spy dia qqq djia nasdaq bofa wells fargo predi...</td>\n    </tr>\n    <tr>\n      <th>2</th>\n      <td>$EURUSD the major key avent is -Fed to announc...</td>\n      <td>Bearish</td>\n      <td>eurusd major key avent fed announce qe taper a...</td>\n    </tr>\n    <tr>\n      <th>6</th>\n      <td>July has been a kind month for the NASDAQ in t...</td>\n      <td>Bullish</td>\n      <td>july kind month nasdaq past 5 years compq nasd...</td>\n    </tr>\n    <tr>\n      <th>7</th>\n      <td>$SPY $DIA $QQQ $RUT china based companies gett...</td>\n      <td>Bullish</td>\n      <td>spy dia qqq rut china based companies getting ...</td>\n    </tr>\n  </tbody>\n</table>\n</div>"
     },
     "metadata": {},
     "execution_count": 25
    }
   ],
   "source": [
    "# Remove common stopwords\n",
    "import nltk.corpus\n",
    "nltk.download('stopwords')\n",
    "from nltk.corpus import stopwords\n",
    "stop = stopwords.words('english')\n",
    "dfRawDropNA['MessageCleaned'] = dfRawDropNA['MessageCleaned'].apply(lambda x: ' '.join([word for word in x.split() if word not in (stop)]))\n",
    "dfRawDropNA.head()"
   ]
  },
  {
   "cell_type": "code",
   "execution_count": 26,
   "metadata": {},
   "outputs": [],
   "source": [
    "dfRawDropNA.to_csv('sampleFinalCleanedStopWords.csv')"
   ]
  },
  {
   "cell_type": "code",
   "execution_count": 27,
   "metadata": {},
   "outputs": [
    {
     "output_type": "stream",
     "name": "stdout",
     "text": [
      "<FreqDist with 22393 samples and 236612 outcomes>\n"
     ]
    }
   ],
   "source": [
    "words = nltk.tokenize.word_tokenize(dfRawDropNA['MessageCleaned'].str.cat(sep=' '))\n",
    "word_dist = nltk.FreqDist(words)\n",
    "print (word_dist)"
   ]
  },
  {
   "cell_type": "code",
   "execution_count": 29,
   "metadata": {},
   "outputs": [
    {
     "output_type": "stream",
     "name": "stdout",
     "text": [
      "      Word  Frequency\n0   nasdaq      11039\n1      spy       9502\n2      ndx       7346\n3     djia       6087\n4      qqq       4471\n5      spx       3870\n6   market       1719\n7      dia       1496\n8     aapl       1217\n9  bullish       1118\n"
     ]
    }
   ],
   "source": [
    "# Check top common words that can be removed\n",
    "freqDist = pd.DataFrame(word_dist.most_common(10),columns=['Word', 'Frequency'])\n",
    "print(freqDist)"
   ]
  },
  {
   "cell_type": "code",
   "execution_count": 30,
   "metadata": {},
   "outputs": [
    {
     "output_type": "stream",
     "name": "stderr",
     "text": [
      "<ipython-input-30-debb33e44fbb>:2: SettingWithCopyWarning: \nA value is trying to be set on a copy of a slice from a DataFrame.\nTry using .loc[row_indexer,col_indexer] = value instead\n\nSee the caveats in the documentation: https://pandas.pydata.org/pandas-docs/stable/user_guide/indexing.html#returning-a-view-versus-a-copy\n  dfRawDropNA['MessageCleaned'] = dfRawDropNA['MessageCleaned'].apply(lambda x: ' '.join([word for word in x.split() if word not in (addStop)]))\n"
     ]
    },
    {
     "output_type": "execute_result",
     "data": {
      "text/plain": [
       "                                             Message Sentiment  \\\n",
       "0  $IDEX  the groups all showing up as long as th...   Bullish   \n",
       "1  $SPY $DIA $QQQ $DJIA $NASDAQ  not only Bofa an...   Bearish   \n",
       "2  $EURUSD the major key avent is -Fed to announc...   Bearish   \n",
       "6  July has been a kind month for the NASDAQ in t...   Bullish   \n",
       "7  $SPY $DIA $QQQ $RUT china based companies gett...   Bullish   \n",
       "\n",
       "                                      MessageCleaned  \n",
       "0  idex groups showing long looks good undervalue...  \n",
       "1  dia bofa wells fargo predicts us 10 years yiel...  \n",
       "2  eurusd major key avent fed announce qe taper a...  \n",
       "6                 july kind month past 5 years compq  \n",
       "7  dia rut china based companies getting impressi...  "
      ],
      "text/html": "<div>\n<style scoped>\n    .dataframe tbody tr th:only-of-type {\n        vertical-align: middle;\n    }\n\n    .dataframe tbody tr th {\n        vertical-align: top;\n    }\n\n    .dataframe thead th {\n        text-align: right;\n    }\n</style>\n<table border=\"1\" class=\"dataframe\">\n  <thead>\n    <tr style=\"text-align: right;\">\n      <th></th>\n      <th>Message</th>\n      <th>Sentiment</th>\n      <th>MessageCleaned</th>\n    </tr>\n  </thead>\n  <tbody>\n    <tr>\n      <th>0</th>\n      <td>$IDEX  the groups all showing up as long as th...</td>\n      <td>Bullish</td>\n      <td>idex groups showing long looks good undervalue...</td>\n    </tr>\n    <tr>\n      <th>1</th>\n      <td>$SPY $DIA $QQQ $DJIA $NASDAQ  not only Bofa an...</td>\n      <td>Bearish</td>\n      <td>dia bofa wells fargo predicts us 10 years yiel...</td>\n    </tr>\n    <tr>\n      <th>2</th>\n      <td>$EURUSD the major key avent is -Fed to announc...</td>\n      <td>Bearish</td>\n      <td>eurusd major key avent fed announce qe taper a...</td>\n    </tr>\n    <tr>\n      <th>6</th>\n      <td>July has been a kind month for the NASDAQ in t...</td>\n      <td>Bullish</td>\n      <td>july kind month past 5 years compq</td>\n    </tr>\n    <tr>\n      <th>7</th>\n      <td>$SPY $DIA $QQQ $RUT china based companies gett...</td>\n      <td>Bullish</td>\n      <td>dia rut china based companies getting impressi...</td>\n    </tr>\n  </tbody>\n</table>\n</div>"
     },
     "metadata": {},
     "execution_count": 30
    }
   ],
   "source": [
    "addStop = ['nasdaq','spy','ndx','djia','qqq']\n",
    "dfRawDropNA['MessageCleaned'] = dfRawDropNA['MessageCleaned'].apply(lambda x: ' '.join([word for word in x.split() if word not in (addStop)]))\n",
    "dfRawDropNA.head()"
   ]
  },
  {
   "cell_type": "code",
   "execution_count": 31,
   "metadata": {},
   "outputs": [],
   "source": [
    "dfRawDropNA.to_csv('sampleFinalCleanedStopWords.csv')"
   ]
  },
  {
   "cell_type": "code",
   "execution_count": 32,
   "metadata": {},
   "outputs": [
    {
     "output_type": "execute_result",
     "data": {
      "text/plain": [
       "MessageCleaned\n",
       "                                                                                                                                                                                                                                                                                                                                                                                                                                                                                    228\n",
       "0 soon everyone flock dogex part plan                                                                                                                                                                                                                                                                                                                                                                                                                                                 1\n",
       "01000010 01100101 01100101 01110000 00100000 01000010 01101111 01101111 01110000                                                                                                                                                                                                                                                                                                                                                                                                      1\n",
       "01nov forecast timing chart 10 days future recommended positions gt longbullish average price target within 10 days future price 849166 852975 change 126 171 investing section gt rising section high profit amp low risk today39s supplydemandsampd strength gt supplydemand strength changed weak buying flow suddenly strengthening buying flow supplydemandsampd strength trend gt midst upward trend strong upward momentum price flow marked temporary falls strong rises      1\n",
       "025 opening implied moment                                                                                                                                                                                                                                                                                                                                                                                                                                                            1\n",
       "                                                                                                                                                                                                                                                                                                                                                                                                                                                                                   ... \n",
       "zs                                                                                                                                                                                                                                                                                                                                                                                                                                                                                    1\n",
       "zs bullish call sweep 93k alerted beta release coming soon visit sweepcastcom optionstrading daytrading stockmarket zs                                                                                                                                                                                                                                                                                                                                                                1\n",
       "zs force strong one look recommend buying weakness                                                                                                                                                                                                                                                                                                                                                                                                                                    1\n",
       "zto another reason like candidtae fundamentals echo charts break higher soon ttmsqueeze                                                                                                                                                                                                                                                                                                                                                                                               1\n",
       "zyne bullish call sweep 66k alerted beta release coming soon visit sweepcastcom optionstrading daytrading stockmarket zyne                                                                                                                                                                                                                                                                                                                                                            1\n",
       "Length: 15630, dtype: int64"
      ]
     },
     "metadata": {},
     "execution_count": 32
    }
   ],
   "source": [
    "dfRawDropNA.groupby('MessageCleaned').size()"
   ]
  },
  {
   "cell_type": "code",
   "execution_count": 34,
   "metadata": {},
   "outputs": [
    {
     "output_type": "execute_result",
     "data": {
      "text/plain": [
       "(16471, 3)"
      ]
     },
     "metadata": {},
     "execution_count": 34
    }
   ],
   "source": [
    "dfRawDropNA.shape"
   ]
  },
  {
   "cell_type": "code",
   "execution_count": 36,
   "metadata": {},
   "outputs": [
    {
     "output_type": "stream",
     "name": "stderr",
     "text": [
      "C:\\Users\\BSIB\\anaconda3\\lib\\site-packages\\pandas\\core\\frame.py:4379: SettingWithCopyWarning: \nA value is trying to be set on a copy of a slice from a DataFrame\n\nSee the caveats in the documentation: https://pandas.pydata.org/pandas-docs/stable/user_guide/indexing.html#returning-a-view-versus-a-copy\n  return super().replace(\n"
     ]
    }
   ],
   "source": [
    "# Convert blank fields to NaN\n",
    "nan_value = float(\"NaN\")\n",
    "\n",
    "dfRawDropNA.replace(\"\", nan_value, inplace=True)"
   ]
  },
  {
   "cell_type": "code",
   "execution_count": 38,
   "metadata": {},
   "outputs": [
    {
     "output_type": "execute_result",
     "data": {
      "text/plain": [
       "(16471, 3)"
      ]
     },
     "metadata": {},
     "execution_count": 38
    }
   ],
   "source": [
    "dfRawDropNA.shape"
   ]
  },
  {
   "cell_type": "code",
   "execution_count": 39,
   "metadata": {},
   "outputs": [
    {
     "output_type": "execute_result",
     "data": {
      "text/plain": [
       "(16243, 3)"
      ]
     },
     "metadata": {},
     "execution_count": 39
    }
   ],
   "source": [
    "# Remove NaN\n",
    "dfCleaned=dfRawDropNA.dropna()\n",
    "dfCleaned.shape"
   ]
  },
  {
   "cell_type": "code",
   "execution_count": 40,
   "metadata": {},
   "outputs": [
    {
     "output_type": "execute_result",
     "data": {
      "text/plain": [
       "                                                 Message Sentiment  \\\n",
       "0      $IDEX  the groups all showing up as long as th...   Bullish   \n",
       "1      $SPY $DIA $QQQ $DJIA $NASDAQ  not only Bofa an...   Bearish   \n",
       "2      $EURUSD the major key avent is -Fed to announc...   Bearish   \n",
       "6      July has been a kind month for the NASDAQ in t...   Bullish   \n",
       "7      $SPY $DIA $QQQ $RUT china based companies gett...   Bullish   \n",
       "...                                                  ...       ...   \n",
       "58729  $NDX http://stks.co/2itL #stockmarket looks po...   Bearish   \n",
       "58783                   $NDX http://stks.co/2Ypo -Weekly   Bullish   \n",
       "58810                   $NDX http://stks.co/2TWl -Weekly   Bullish   \n",
       "58859  $NDX http://stks.co/2Jh3 Nasdaq-100 Bullish Pe...   Bullish   \n",
       "58866            $NDX http://stks.co/2FXs -Weekly-Strong   Bullish   \n",
       "\n",
       "                                          MessageCleaned  \n",
       "0      idex groups showing long looks good undervalue...  \n",
       "1      dia bofa wells fargo predicts us 10 years yiel...  \n",
       "2      eurusd major key avent fed announce qe taper a...  \n",
       "6                     july kind month past 5 years compq  \n",
       "7      dia rut china based companies getting impressi...  \n",
       "...                                                  ...  \n",
       "58729  stockmarket looks poised resume sell couple da...  \n",
       "58783                                             weekly  \n",
       "58810                                             weekly  \n",
       "58859  nasdaq100 bullish percent index ended today 82...  \n",
       "58866                                       weeklystrong  \n",
       "\n",
       "[16243 rows x 3 columns]"
      ],
      "text/html": "<div>\n<style scoped>\n    .dataframe tbody tr th:only-of-type {\n        vertical-align: middle;\n    }\n\n    .dataframe tbody tr th {\n        vertical-align: top;\n    }\n\n    .dataframe thead th {\n        text-align: right;\n    }\n</style>\n<table border=\"1\" class=\"dataframe\">\n  <thead>\n    <tr style=\"text-align: right;\">\n      <th></th>\n      <th>Message</th>\n      <th>Sentiment</th>\n      <th>MessageCleaned</th>\n    </tr>\n  </thead>\n  <tbody>\n    <tr>\n      <th>0</th>\n      <td>$IDEX  the groups all showing up as long as th...</td>\n      <td>Bullish</td>\n      <td>idex groups showing long looks good undervalue...</td>\n    </tr>\n    <tr>\n      <th>1</th>\n      <td>$SPY $DIA $QQQ $DJIA $NASDAQ  not only Bofa an...</td>\n      <td>Bearish</td>\n      <td>dia bofa wells fargo predicts us 10 years yiel...</td>\n    </tr>\n    <tr>\n      <th>2</th>\n      <td>$EURUSD the major key avent is -Fed to announc...</td>\n      <td>Bearish</td>\n      <td>eurusd major key avent fed announce qe taper a...</td>\n    </tr>\n    <tr>\n      <th>6</th>\n      <td>July has been a kind month for the NASDAQ in t...</td>\n      <td>Bullish</td>\n      <td>july kind month past 5 years compq</td>\n    </tr>\n    <tr>\n      <th>7</th>\n      <td>$SPY $DIA $QQQ $RUT china based companies gett...</td>\n      <td>Bullish</td>\n      <td>dia rut china based companies getting impressi...</td>\n    </tr>\n    <tr>\n      <th>...</th>\n      <td>...</td>\n      <td>...</td>\n      <td>...</td>\n    </tr>\n    <tr>\n      <th>58729</th>\n      <td>$NDX http://stks.co/2itL #stockmarket looks po...</td>\n      <td>Bearish</td>\n      <td>stockmarket looks poised resume sell couple da...</td>\n    </tr>\n    <tr>\n      <th>58783</th>\n      <td>$NDX http://stks.co/2Ypo -Weekly</td>\n      <td>Bullish</td>\n      <td>weekly</td>\n    </tr>\n    <tr>\n      <th>58810</th>\n      <td>$NDX http://stks.co/2TWl -Weekly</td>\n      <td>Bullish</td>\n      <td>weekly</td>\n    </tr>\n    <tr>\n      <th>58859</th>\n      <td>$NDX http://stks.co/2Jh3 Nasdaq-100 Bullish Pe...</td>\n      <td>Bullish</td>\n      <td>nasdaq100 bullish percent index ended today 82...</td>\n    </tr>\n    <tr>\n      <th>58866</th>\n      <td>$NDX http://stks.co/2FXs -Weekly-Strong</td>\n      <td>Bullish</td>\n      <td>weeklystrong</td>\n    </tr>\n  </tbody>\n</table>\n<p>16243 rows × 3 columns</p>\n</div>"
     },
     "metadata": {},
     "execution_count": 40
    }
   ],
   "source": []
  },
  {
   "cell_type": "code",
   "execution_count": 41,
   "metadata": {},
   "outputs": [],
   "source": [
    "dfCleaned.to_csv('sampleToBeVect.csv')"
   ]
  },
  {
   "cell_type": "code",
   "execution_count": null,
   "metadata": {},
   "outputs": [],
   "source": []
  }
 ]
}